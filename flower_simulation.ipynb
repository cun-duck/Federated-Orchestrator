{
 "cells": [
  {
   "cell_type": "code",
   "execution_count": null,
   "metadata": {
    "vscode": {
     "languageId": "plaintext"
    }
   },
   "outputs": [],
   "source": [
    "import flwr as fl\n",
    "from typing import List, Tuple\n",
    "import numpy as np\n",
    "\n",
    "class EdgeClient(fl.client.NumPyClient):\n",
    "    def __init__(self, model_path: str, geo_context: str):\n",
    "        self.model = ort.InferenceSession(model_path)\n",
    "        self.geo_context = geo_context  # e.g \"hospital\", \"factory\"\n",
    "        \n",
    "    def get_parameters(self, config) -> List[np.ndarray]:\n",
    "        return [np.array(param) for param in self.model.get_parameters()]\n",
    "    \n",
    "    def fit(self, parameters, config):\n",
    "        \n",
    "        self.model.set_parameters(parameters)\n",
    "        \n",
    "        return self.get_parameters(), len(train_data), {}\n"
   ]
  },
  {
   "cell_type": "markdown",
   "metadata": {},
   "source": [
    "## Start Simulation"
   ]
  },
  {
   "cell_type": "code",
   "execution_count": null,
   "metadata": {
    "vscode": {
     "languageId": "plaintext"
    }
   },
   "outputs": [],
   "source": [
    "fl.simulation.start_simulation(\n",
    "    client_fn=create_client,\n",
    "    num_clients=3,\n",
    "    config=fl.server.ServerConfig(num_rounds=5),\n",
    ")"
   ]
  }
 ],
 "metadata": {
  "language_info": {
   "name": "python"
  }
 },
 "nbformat": 4,
 "nbformat_minor": 2
}
